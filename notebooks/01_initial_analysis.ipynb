{
 "cells": [
  {
   "cell_type": "markdown",
   "metadata": {},
   "source": [
    "# UFO Sightings Analysis\n",
    "\n",
    "This notebook analyzes the UFO sightings dataset and creates visualizations to understand patterns in the data.\n",
    "\n",
    "## Setup and Data Loading"
   ]
  },
  {
   "cell_type": "code",
   "execution_count": null,
   "metadata": {},
   "outputs": [],
   "source": [
    "import pandas as pd\n",
    "import numpy as np\n",
    "import matplotlib.pyplot as plt\n",
    "import folium\n",
    "from folium import plugins\n",
    "from pathlib import Path\n",
    "\n",
    "# Set plotting style\n",
    "plt.style.use('default')\n",
    "plt.rcParams['figure.figsize'] = [12, 6]\n",
    "plt.rcParams['figure.dpi'] = 100"
   ]
  },
  {
   "cell_type": "code",
   "execution_count": null,
   "metadata": {},
   "outputs": [],
   "source": [
    "# Load the dataset with proper handling of problematic rows\n",
    "data_path = Path('../data/raw/complete.csv')\n",
    "df = pd.read_csv(data_path, \n",
    "                 escapechar='\\\\',\n",
    "                 quotechar='\"',\n",
    "                 doublequote=True,\n",
    "                 encoding='utf-8',\n",
    "                 on_bad_lines='warn',\n",
    "                 low_memory=False)\n",
    "\n",
    "# Display basic information about the dataset\n",
    "print(\"Dataset Shape:\", df.shape)\n",
    "print(\"\\nColumns:\", df.columns.tolist())\n",
    "print(\"\\nMissing Values:\")\n",
    "print(df.isnull().sum())"
   ]
  },
  {
   "cell_type": "markdown",
   "metadata": {},
   "source": [
    "## Data Preprocessing\n",
    "\n",
    "Let's clean up the data and prepare it for analysis:"
   ]
  },
  {
   "cell_type": "code",
   "execution_count": null,
   "metadata": {},
   "outputs": [],
   "source": [
    "# Convert datetime and ensure numeric coordinates\n",
    "df['datetime'] = pd.to_datetime(df['datetime'])\n",
    "df['latitude'] = pd.to_numeric(df['latitude'], errors='coerce')\n",
    "df['longitude'] = pd.to_numeric(df['longitude'], errors='coerce')\n",
    "\n",
    "# Remove rows with invalid coordinates\n",
    "df_clean = df.dropna(subset=['latitude', 'longitude'])\n",
    "\n",
    "print(\"Original dataset size:\", len(df))\n",
    "print(\"Clean dataset size:\", len(df_clean))\n",
    "print(\"Removed rows:\", len(df) - len(df_clean))"
   ]
  },
  {
   "cell_type": "markdown",
   "metadata": {},
   "source": [
    "## Interactive Map of UFO Sightings\n",
    "\n",
    "Create a heatmap showing the concentration of UFO sightings across the globe:"
   ]
  },
  {
   "cell_type": "code",
   "execution_count": null,
   "metadata": {},
   "outputs": [],
   "source": [
    "# Create base map centered on US\n",
    "m = folium.Map(location=[37.0902, -95.7129], \n",
    "               zoom_start=4,\n",
    "               tiles='CartoDB positron')\n",
    "\n",
    "# Add heatmap layer\n",
    "locations = df_clean[['latitude', 'longitude']].values.tolist()\n",
    "plugins.HeatMap(locations, \n",
    "                radius=8,\n",
    "                blur=5,\n",
    "                gradient={0.4: 'blue', 0.65: 'lime', 1: 'red'}).add_to(m)\n",
    "\n",
    "# Display the map\n",
    "m"
   ]
  },
  {
   "cell_type": "markdown",
   "metadata": {},
   "source": [
    "## Temporal Analysis\n",
    "\n",
    "Let's analyze how UFO sightings have changed over time:"
   ]
  },
  {
   "cell_type": "code",
   "execution_count": null,
   "metadata": {},
   "outputs": [],
   "source": [
    "# Create yearly trend plot\n",
    "yearly_sightings = df_clean.groupby(df_clean['datetime'].dt.year).size()\n",
    "\n",
    "plt.figure(figsize=(15, 6))\n",
    "yearly_sightings.plot(kind='line', marker='o')\n",
    "plt.title('UFO Sightings by Year')\n",
    "plt.xlabel('Year')\n",
    "plt.ylabel('Number of Sightings')\n",
    "plt.grid(True)\n",
    "plt.show()\n",
    "\n",
    "print(\"\\nSightings by Decade:\")\n",
    "decade_sightings = df_clean.groupby((df_clean['datetime'].dt.year // 10) * 10).size()\n",
    "print(decade_sightings)"
   ]
  },
  {
   "cell_type": "markdown",
   "metadata": {},
   "source": [
    "## Geographic Distribution\n",
    "\n",
    "Analyze where UFO sightings occur most frequently:"
   ]
  },
  {
   "cell_type": "code",
   "execution_count": null,
   "metadata": {},
   "outputs": [],
   "source": [
    "# Top states for UFO sightings (US only)\n",
    "us_sightings = df_clean[df_clean['country'] == 'us']\n",
    "state_counts = us_sightings['state'].value_counts().head(15)\n",
    "\n",
    "plt.figure(figsize=(15, 6))\n",
    "state_counts.plot(kind='bar')\n",
    "plt.title('Top 15 States with Most UFO Sightings')\n",
    "plt.xlabel('State')\n",
    "plt.ylabel('Number of Sightings')\n",
    "plt.xticks(rotation=45)\n",
    "plt.tight_layout()\n",
    "plt.show()\n",
    "\n",
    "print(\"\\nTop 15 States for UFO Sightings:\")\n",
    "print(state_counts)"
   ]
  },
  {
   "cell_type": "markdown",
   "metadata": {},
   "source": [
    "## UFO Characteristics\n",
    "\n",
    "Analyze the reported shapes and durations of UFO sightings:"
   ]
  },
  {
   "cell_type": "code",
   "execution_count": null,
   "metadata": {},
   "outputs": [],
   "source": [
    "# Most common UFO shapes\n",
    "shape_counts = df_clean['shape'].value_counts().head(10)\n",
    "\n",
    "plt.figure(figsize=(12, 6))\n",
    "shape_counts.plot(kind='bar')\n",
    "plt.title('Most Common UFO Shapes')\n",
    "plt.xlabel('Shape')\n",
    "plt.ylabel('Number of Sightings')\n",
    "plt.xticks(rotation=45)\n",
    "plt.tight_layout()\n",
    "plt.show()\n",
    "\n",
    "print(\"\\nTop 10 Reported UFO Shapes:\")\n",
    "print(shape_counts)"
   ]
  },
  {
   "cell_type": "markdown",
   "metadata": {},
   "source": [
    "## Summary Statistics\n",
    "\n",
    "Key findings from the analysis:"
   ]
  },
  {
   "cell_type": "code",
   "execution_count": null,
   "metadata": {},
   "outputs": [],
   "source": [
    "print(\"Dataset Overview:\")\n",
    "print(f\"Total number of sightings: {len(df_clean):,}\")\n",
    "print(f\"Date range: {df_clean['datetime'].min().year} to {df_clean['datetime'].max().year}\")\n",
    "print(f\"Number of countries: {df_clean['country'].nunique()}\")\n",
    "print(f\"Number of different shapes reported: {df_clean['shape'].nunique()}\")\n",
    "\n",
    "# Peak sighting years\n",
    "peak_year = yearly_sightings.idxmax()\n",
    "print(f\"\\nPeak year for sightings: {peak_year} with {yearly_sightings[peak_year]:,} sightings\")\n",
    "\n",
    "# Recent trends\n",
    "recent_years = yearly_sightings.tail(5)\n",
    "print(\"\\nRecent years sighting counts:\")\n",
    "print(recent_years)"
   ]
  }
 ],
 "metadata": {
  "kernelspec": {
   "display_name": "Python 3",
   "language": "python",
   "name": "python3"
  },
  "language_info": {
   "codemirror_mode": {
    "name": "ipython",
    "version": 3
   },
   "file_extension": ".py",
   "mimetype": "text/x-python",
   "name": "python",
   "nbconvert_exporter": "python",
   "pygments_lexer": "ipython3",
   "version": "3.13.2"
  }
 },
 "nbformat": 4,
 "nbformat_minor": 4
}
