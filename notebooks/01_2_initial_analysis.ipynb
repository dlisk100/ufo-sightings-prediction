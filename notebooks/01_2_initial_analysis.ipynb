{
  "nbformat": 4,
  "nbformat_minor": 0,
  "metadata": {
    "colab": {
      "provenance": []
    },
    "kernelspec": {
      "name": "python3",
      "display_name": "Python 3"
    },
    "language_info": {
      "name": "python"
    }
  },
  "cells": [
    {
      "cell_type": "markdown",
      "source": [
        "**Paste the following chunks into \"01_initial_analysis.ipynb\" and run.**\n",
        "\n",
        "These plots only contain data in the US."
      ],
      "metadata": {
        "id": "8m5ZVAaq4c3T"
      }
    },
    {
      "cell_type": "code",
      "execution_count": null,
      "metadata": {
        "id": "Z5qeIo0L4UMn"
      },
      "outputs": [],
      "source": [
        "import seaborn as sns"
      ]
    },
    {
      "cell_type": "code",
      "source": [
        "# Ensure 'duration (seconds)' is numeric\n",
        "us_sightings['duration (seconds)'] = pd.to_numeric(us_sightings['duration (seconds)'], errors='coerce')"
      ],
      "metadata": {
        "id": "3heihJGU4169"
      },
      "execution_count": null,
      "outputs": []
    },
    {
      "cell_type": "code",
      "source": [
        "## remove rows contain NAs ##\n",
        "original_rows = us_sightings.shape[0]\n",
        "us_sightings = us_sightings.dropna(subset=['duration (seconds)', 'shape', 'datetime'])\n",
        "dropped_rows = original_rows - us_sightings.shape[0]\n",
        "\n",
        "print(f\"Dropped rows: {dropped_rows}\") # 2858"
      ],
      "metadata": {
        "id": "UUw2Etuf44tf"
      },
      "execution_count": null,
      "outputs": []
    },
    {
      "cell_type": "code",
      "source": [
        "# Create side-by-side plot of duration(seconds) by shape\n",
        "plt.figure(figsize=(15, 6))\n",
        "sns.boxplot(x='shape', y='duration (seconds)', data=us_sightings)\n",
        "plt.xticks(rotation=90)\n",
        "plt.yscale('log')  # Log scale to handle outliers\n",
        "plt.title('Distribution of UFO Sighting Durations by Shape (US)')\n",
        "plt.ylabel('Duration (Seconds) (log scale)')\n",
        "plt.xlabel('Shape')\n",
        "plt.show()"
      ],
      "metadata": {
        "id": "NJl2hbYC4-Su"
      },
      "execution_count": null,
      "outputs": []
    },
    {
      "cell_type": "code",
      "source": [
        "# Create side-by-side plot of duration(seconds) by state\n",
        "plt.figure(figsize=(15, 6))\n",
        "sns.boxplot(x='state', y='duration (seconds)', data=us_sightings)\n",
        "plt.xticks(rotation=90)\n",
        "plt.yscale('log')  # Use log scale for better visualization of duration\n",
        "plt.title('Distribution of UFO Sighting Durations by State (US)')\n",
        "plt.ylabel('Duration (Seconds) (log scale)')\n",
        "plt.xlabel('State')\n",
        "plt.show()"
      ],
      "metadata": {
        "id": "12VgJWxx5BPh"
      },
      "execution_count": null,
      "outputs": []
    },
    {
      "cell_type": "code",
      "source": [
        "# Create side-by-side plot of duration(seconds) by year and month\n",
        "# Extract year and month of datetime\n",
        "us_sightings['year'] = us_sightings['datetime'].dt.year.astype(int)\n",
        "us_sightings['month'] = us_sightings['datetime'].dt.month.astype(int)\n",
        "\n",
        "plt.figure(figsize=(15, 6))\n",
        "sns.boxplot(x='year', y='duration (seconds)', data=us_sightings)\n",
        "plt.xticks(rotation=90)\n",
        "plt.yscale('log')  # Use log scale for better visualization of duration\n",
        "plt.title('Distribution of UFO Sighting Durations by State (US)')\n",
        "plt.ylabel('Duration (Seconds) (log scale)')\n",
        "plt.xlabel('year')\n",
        "plt.show()\n",
        "\n",
        "plt.figure(figsize=(15, 6))\n",
        "sns.boxplot(x='month', y='duration (seconds)', data=us_sightings)\n",
        "plt.xticks(rotation=90)\n",
        "plt.yscale('log')  # Use log scale for better visualization of duration\n",
        "plt.title('Distribution of UFO Sighting Durations by State (US)')\n",
        "plt.ylabel('Duration (Seconds) (log scale)')\n",
        "plt.xlabel('month')\n",
        "plt.show()\n",
        "\n",
        "## see if we can run a time-series model"
      ],
      "metadata": {
        "id": "L-fw1-0P5Enr"
      },
      "execution_count": null,
      "outputs": []
    }
  ]
}